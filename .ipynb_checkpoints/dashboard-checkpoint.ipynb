{
 "cells": [
  {
   "cell_type": "markdown",
   "metadata": {},
   "source": [
    "# San Francisco Rental Prices Dashboard\n",
    "\n",
    "In this notebook, you will compile the visualizations from the previous analysis into functions that can be used for a Panel dashboard."
   ]
  },
  {
   "cell_type": "code",
   "execution_count": null,
   "metadata": {},
   "outputs": [],
   "source": [
    "#This is a script to do the following:\n",
    "# 1."
   ]
  },
  {
   "cell_type": "code",
   "execution_count": 4,
   "metadata": {},
   "outputs": [],
   "source": [
    "#Initial imports\n",
    "import panel as pn\n",
    "pn.extension('plotly')\n",
    "import plotly.express as px\n",
    "import pandas as pd\n",
    "import hvplot.pandas\n",
    "import matplotlib.pyplot as plt\n",
    "import os\n",
    "from pathlib import Path\n",
    "from dotenv import load_dotenv"
   ]
  },
  {
   "cell_type": "code",
   "execution_count": 5,
   "metadata": {},
   "outputs": [],
   "source": [
    "#Load the .env variable with the Mapbox API key and set the mapbox access token\n",
    "map_box_api = os.getenv(\"mapbox\")\n",
    "px.set_mapbox_access_token(map_box_api)"
   ]
  },
  {
   "cell_type": "markdown",
   "metadata": {},
   "source": [
    "# Import Data"
   ]
  },
  {
   "cell_type": "code",
   "execution_count": 9,
   "metadata": {},
   "outputs": [],
   "source": [
    "#Import the necessary CSVs that were output from the analysis code to new dataframes here.\n",
    "file_path_1 = Path(\"Output_csv_data_files/combined_location_price_df.csv\")\n",
    "combined_location_price_df = pd.read_csv(file_path_1)\n",
    "\n",
    "file_path_2 = Path(\"Output_csv_data_files/sfo_expensive_neighborhoods.csv\")\n",
    "sfo_expensive_neighborhoods = pd.read_csv(file_path_2)\n",
    "\n",
    "file_path_3 = Path(\"Output_csv_data_files/sfo_expensive_neighborhoods_by_year.csv\")\n",
    "sfo_expensive_neighborhoods_by_year = pd.read_csv(file_path_3)\n",
    "\n",
    "file_path_4 = Path(\"Output_csv_data_files/sfo_mean_housing_units.csv\")\n",
    "sfo_mean_housing_units = pd.read_csv(file_path_4, index_col=\"year\")\n",
    "\n",
    "file_path_5 = Path(\"Output_csv_data_files/sfo_mean_price_rent.csv\")\n",
    "sfo_mean_price_rent = pd.read_csv(file_path_5, index_col=\"year\")\n",
    "\n",
    "file_path_6 = Path(\"Output_csv_data_files/sfo_price_by_neighborhood.csv\")\n",
    "sfo_price_by_neighborhood = pd.read_csv(file_path_6, index_col=\"year\")"
   ]
  },
  {
   "cell_type": "markdown",
   "metadata": {},
   "source": [
    "- - -"
   ]
  },
  {
   "cell_type": "markdown",
   "metadata": {},
   "source": [
    "## Panel Visualizations\n",
    "\n",
    "In this section, you will copy the code for each plot type from your analysis notebook and place it into separate functions that Panel can use to create panes for the dashboard. \n",
    "\n",
    "These functions will convert the plot object to a Panel pane.\n",
    "\n",
    "Be sure to include any DataFrame transformation/manipulation code required along with the plotting code.\n",
    "\n",
    "Return a Panel pane object from each function that can be used to build the dashboard.\n",
    "\n",
    "Note: Remove any `.show()` lines from the code. We want to return the plots instead of showing them. The Panel dashboard will then display the plots."
   ]
  },
  {
   "cell_type": "code",
   "execution_count": 12,
   "metadata": {},
   "outputs": [],
   "source": [
    "# Define Panel Visualization Functions\n",
    "def housing_units_per_year():\n",
    "    \"\"\"Housing Units Per Year.\"\"\"\n",
    "    \n",
    "    minimum_mean_units = sfo_mean_housing_units.min()\n",
    "    maximum_mean_units = sfo_mean_housing_units.max()\n",
    "    std_mean_units = sfo_mean_housing_units.std()\n",
    "    \n",
    "    sfo_mean_housing_units_plot = sfo_mean_housing_units.plot(\n",
    "        kind='bar', \n",
    "        ylim=(minimum_mean_units - std_mean_units,maximum_mean_units + std_mean_units), \n",
    "        xlabel=\"Year\", \n",
    "        ylabel=\"Average Housing Units\", \n",
    "        title=\"Average Housing Units in San Francisco 2010-2016\", \n",
    "        figsize=(10,5)).title.set_size(20)\n",
    "    \n",
    "    return sfo_mean_housing_units_plot\n",
    "\n",
    "def average_gross_rent():\n",
    "    \"\"\"Average Gross Rent in San Francisco Per Year.\"\"\"\n",
    "    \n",
    "    sfo_mean_rent_plot = sfo_mean_price_rent[\"avg_gross_rent\"].plot(\n",
    "        xlabel=\"Year\", \n",
    "        ylabel=\"Average Gross Rent\", \n",
    "        title=\"Average Gross Rent in San Francisco 2010-2016\",\n",
    "        color=\"indigo\",\n",
    "        figsize=(10,5)).title.set_size(20)\n",
    "    \n",
    "    return sfo_mean_rent_plot\n",
    "\n",
    "def average_sales_price():\n",
    "    \"\"\"Average Sales Price Per Year.\"\"\"\n",
    "    \n",
    "    sfo_mean_price_plot = sfo_mean_price_rent[\"avg_sale_price_sqr_foot\"].plot(\n",
    "        xlabel=\"Year\", \n",
    "        ylabel=\"Average Sale Price per SqFt\", \n",
    "        title=\"Average Sale Price per SqFt in San Francisco 2010-2016\",\n",
    "        color=\"seagreen\",\n",
    "        figsize=(10,5)).title.set_size(20)\n",
    "    \n",
    "    return sfo_mean_price_plot\n",
    "\n",
    "def average_price_by_neighborhood():\n",
    "    \"\"\"Average Prices by Neighborhood.\"\"\"\n",
    "    \n",
    "    sfo_average_sale_price_by_neighborhood_plot = sfo_price_by_neighborhood.hvplot(\n",
    "        y=\"avg_sale_price_sqr_foot\", \n",
    "        x=\"year\", \n",
    "        groupby=\"neighborhood\", \n",
    "        ylabel=\"Average Sale Price per SqFt\", \n",
    "        xlabel=\"Year\")\n",
    "    \n",
    "    return sfo_average_sale_price_by_neighborhood_plot\n",
    "\n",
    "def average_gross_rent_by_neighborhood():\n",
    "    \"\"\"Average Gross Rent by Neighborhood.\"\"\"\n",
    "    \n",
    "    sfo_avg_gross_rent_by_neighborhood_plot = sfo_price_by_neighborhood.hvplot(\n",
    "        y=\"avg_gross_rent\", \n",
    "        x=\"year\", \n",
    "        groupby=\"neighborhood\", \n",
    "        ylabel=\"Average Gross Rent\", \n",
    "        xlabel=\"Year\")\n",
    "    \n",
    "    return sfo_avg_gross_rent_by_neighborhood_plot\n",
    "    \n",
    "def top_most_expensive_neighborhoods():\n",
    "    \"\"\"Top 10 Most Expensive Neighborhoods.\"\"\"\n",
    "    \n",
    "    sfo_expensive_neighborhoods_plot = sfo_expensive_neighborhoods.hvplot.bar(\n",
    "        title=\"Top 10 Most Expensive Neighborhoods in San Francisco\", \n",
    "        y=\"avg_sale_price_sqr_foot\",\n",
    "        x=\"neighborhood\", \n",
    "        ylabel=\"Average Sale Price per SqFt\", \n",
    "        xlabel=\"Neighborhood\",\n",
    "        rot=90,\n",
    "        frame_width=750,\n",
    "        frame_height=250,\n",
    "        color=\"orangered\")\n",
    "    \n",
    "    return sfo_expensive_neighborhoods_plot\n",
    "\n",
    "def most_expensive_neighborhoods_rent_sales():\n",
    "    \"\"\"Comparison of Rent and Sales Prices of Most Expensive Neighborhoods.\"\"\"   \n",
    "    \n",
    "    sfo_price_by_neighborhood.reset_index(inplace=True)\n",
    "    \n",
    "    comparison_rent_price_plot = sfo_price_by_neighborhood.hvplot.bar(\n",
    "        title=\"Average Purchase Price per SqFt vs. Average Gross Rent by Year\", \n",
    "        y=[\"avg_gross_rent\",\"avg_sale_price_sqr_foot\"],\n",
    "        x=\"year\",\n",
    "        groupby=\"neighborhood\",\n",
    "        ylabel=\"Average Gross Rent/Average Sale Price per SqFt\",\n",
    "        xlabel=\"Year\",\n",
    "        rot=90,\n",
    "        frame_width=750,\n",
    "        frame_height=250,\n",
    "        cmap=[\"darkblue\",\"darkred\"])\n",
    "    \n",
    "    return comparison_rent_price_plot\n",
    "    \n",
    "def parallel_coordinates():\n",
    "    \"\"\"Parallel Coordinates Plot.\"\"\"\n",
    "    \n",
    "    parallel_coordinates_plot = px.parallel_coordinates(\n",
    "        sfo_expensive_neighborhoods, \n",
    "        color=\"avg_sale_price_sqr_foot\",\n",
    "        labels={\n",
    "            \"avg_sale_price_sqr_foot\": \"Avg. Sale Price per SqFt\",\n",
    "            \"avg_housing_units\": \"Avg. Housing Units\",\n",
    "            \"avg_gross_rent\":\"Avg. Gross Rent\"\n",
    "        },\n",
    "        width=1000,\n",
    "        height=750)\n",
    "\n",
    "    return parallel_coordinates_plot\n",
    "\n",
    "def parallel_categories():\n",
    "    \"\"\"Parallel Categories Plot.\"\"\"\n",
    "    \n",
    "    parallel_categories_plot = px.parallel_categories(\n",
    "        sfo_expensive_neighborhoods,\n",
    "        dimensions=[\"neighborhood\", \"avg_sale_price_sqr_foot\", \"avg_housing_units\",\"avg_gross_rent\"],\n",
    "        color=\"avg_sale_price_sqr_foot\",\n",
    "        color_continuous_scale=\"reds\",\n",
    "        labels={\n",
    "            \"neighborhood\": \"Neighborhood\",\n",
    "            \"avg_sale_price_sqr_foot\": \"Avg. Sale Price per SqFt\",\n",
    "            \"avg_housing_units\": \"Avg. Housing Units\",\n",
    "            \"avg_gross_rent\":\"Avg. Gross Rent\"\n",
    "        },\n",
    "        width=1000,\n",
    "        height=750)\n",
    "    \n",
    "    return parallel_categories_plot\n",
    "\n",
    "def neighborhood_map():\n",
    "    \"\"\"Neighborhood Map.\"\"\"\n",
    "    \n",
    "    sfo_price_map_plot = px.scatter_mapbox(\n",
    "        combined_location_price_df,\n",
    "        lat=\"Lat\",\n",
    "        lon=\"Lon\",\n",
    "        size=\"avg_sale_price_sqr_foot\",\n",
    "        color=\"avg_gross_rent\",\n",
    "        title=\"Average Price per SqFt (by size) and Average Gross Rent (by color) per Neighborhood\",\n",
    "        hover_data=[\"Neighborhood\",\"Lat\",\"Lon\",\"avg_sale_price_sqr_foot\",\"avg_gross_rent\"],\n",
    "        color_continuous_scale=\"reds\",\n",
    "        zoom=11,\n",
    "        width=1000,\n",
    "        height=750)\n",
    "    \n",
    "    return sfo_price_map_plot\n",
    "\n",
    "def sunburst():\n",
    "    \"\"\"Sunburst Plot.\"\"\"\n",
    "    \n",
    "    sunburst_plot = px.sunburst(\n",
    "        sfo_expensive_neighborhoods_by_year, \n",
    "        path=[\"year\",\"neighborhood\"],\n",
    "        values=\"sale_price_sqr_foot\",\n",
    "        color=\"gross_rent\",\n",
    "        labels={\"gross_rent\":\"Gross Rent\"},\n",
    "        width=1000,\n",
    "        height=750,\n",
    "        color_continuous_scale=\"reds\")\n",
    "    \n",
    "    return sunburst_plot"
   ]
  },
  {
   "cell_type": "markdown",
   "metadata": {},
   "source": [
    "## Panel Dashboard\n",
    "\n",
    "In this section, you will combine all of the plots into a single dashboard view using Panel. Be creative with your dashboard design!"
   ]
  },
  {
   "cell_type": "code",
   "execution_count": 13,
   "metadata": {},
   "outputs": [
    {
     "ename": "SyntaxError",
     "evalue": "invalid syntax (<ipython-input-13-26a9ce14c80d>, line 2)",
     "output_type": "error",
     "traceback": [
      "\u001b[1;36m  File \u001b[1;32m\"<ipython-input-13-26a9ce14c80d>\"\u001b[1;36m, line \u001b[1;32m2\u001b[0m\n\u001b[1;33m    SFO_real_estate_analysis_dashboard =\u001b[0m\n\u001b[1;37m                                        ^\u001b[0m\n\u001b[1;31mSyntaxError\u001b[0m\u001b[1;31m:\u001b[0m invalid syntax\n"
     ]
    }
   ],
   "source": [
    "# Create a Title for the Dashboard\n",
    "SFO_real_estate_analysis_dashboard =\n",
    "\n",
    "# Create a tab layout for the dashboard\n",
    "SFO_real_estate_analysis_dashboard = pn.Tabs(\n",
    "    (\"Geospatial\", neighborhood_map()))\n",
    "#    (\"Housing Units\", housing_units_column),\n",
    "#    (\"Purchase Price\", purchase_price_column),\n",
    "#    (\"Gross Rent\", gross_rent_column),\n",
    "#    (\"Expensive Neighborhoods\", expensive_neighborhoods_column)\n",
    "#    )\n",
    "\n",
    "# Create the dashboard\n",
    "SFO_real_estate_analysis_dashboard"
   ]
  },
  {
   "cell_type": "markdown",
   "metadata": {},
   "source": [
    "## Serve the Panel Dashboard"
   ]
  },
  {
   "cell_type": "code",
   "execution_count": null,
   "metadata": {},
   "outputs": [],
   "source": [
    "# Serve the# dashboard\n",
    "# YOUR CODE HERE!"
   ]
  },
  {
   "cell_type": "markdown",
   "metadata": {},
   "source": [
    "# Debugging\n",
    "\n",
    "Note: Some of the Plotly express plots may not render in the notebook through the panel functions.\n",
    "\n",
    "However, you can test each plot by uncommenting the following code"
   ]
  },
  {
   "cell_type": "code",
   "execution_count": null,
   "metadata": {},
   "outputs": [],
   "source": [
    "# housing_units_per_year()"
   ]
  },
  {
   "cell_type": "code",
   "execution_count": null,
   "metadata": {},
   "outputs": [],
   "source": [
    "# average_gross_rent()"
   ]
  },
  {
   "cell_type": "code",
   "execution_count": null,
   "metadata": {},
   "outputs": [],
   "source": [
    "# average_sales_price()"
   ]
  },
  {
   "cell_type": "code",
   "execution_count": null,
   "metadata": {},
   "outputs": [],
   "source": [
    "# average_price_by_neighborhood()"
   ]
  },
  {
   "cell_type": "code",
   "execution_count": null,
   "metadata": {},
   "outputs": [],
   "source": [
    "# average_gross_rent_by_neighborhood()"
   ]
  },
  {
   "cell_type": "code",
   "execution_count": null,
   "metadata": {},
   "outputs": [],
   "source": [
    "# top_most_expensive_neighborhoods()"
   ]
  },
  {
   "cell_type": "code",
   "execution_count": null,
   "metadata": {},
   "outputs": [],
   "source": [
    "# most_expensive_neighborhoods_rent_sales()"
   ]
  },
  {
   "cell_type": "code",
   "execution_count": null,
   "metadata": {},
   "outputs": [],
   "source": [
    "# neighborhood_map().show()"
   ]
  },
  {
   "cell_type": "code",
   "execution_count": null,
   "metadata": {},
   "outputs": [],
   "source": [
    "# parallel_categories()"
   ]
  },
  {
   "cell_type": "code",
   "execution_count": null,
   "metadata": {},
   "outputs": [],
   "source": [
    "# parallel_coordinates()"
   ]
  },
  {
   "cell_type": "code",
   "execution_count": null,
   "metadata": {},
   "outputs": [],
   "source": [
    "# sunburst()"
   ]
  },
  {
   "cell_type": "code",
   "execution_count": null,
   "metadata": {},
   "outputs": [],
   "source": []
  }
 ],
 "metadata": {
  "file_extension": ".py",
  "kernelspec": {
   "display_name": "Python [conda env:pyvizenv] *",
   "language": "python",
   "name": "conda-env-pyvizenv-py"
  },
  "language_info": {
   "codemirror_mode": {
    "name": "ipython",
    "version": 3
   },
   "file_extension": ".py",
   "mimetype": "text/x-python",
   "name": "python",
   "nbconvert_exporter": "python",
   "pygments_lexer": "ipython3",
   "version": "3.7.10"
  },
  "mimetype": "text/x-python",
  "name": "python",
  "npconvert_exporter": "python",
  "pygments_lexer": "ipython3",
  "version": 3
 },
 "nbformat": 4,
 "nbformat_minor": 4
}
